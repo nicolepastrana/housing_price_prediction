{
 "cells": [
  {
   "cell_type": "markdown",
   "metadata": {},
   "source": [
    "# Housing Price Prediction Model\n",
    "\n",
    "**Nicole Pastrana**"
   ]
  },
  {
   "cell_type": "markdown",
   "metadata": {},
   "source": [
    "# Index\n",
    "\n",
    "- [Abstract](#Abstract)\n",
    "- [1. Introduction](#1.-Introduction)\n",
    "- [2. The Data](#2.-The-Data)\n",
    "    - [2.1 Import the Data](#2.1-Import-the-Data)\n",
    "    - [2.2 Data Exploration](#2.2-Data-Exploration)\n",
    "    - [2.3 Data Preparation](#2.3-Data-Preparation)\n",
    "    - [2.4 Correlation](#2.4-Correlation)\n",
    "        - [Variable Set 1: Year Built and/or Remodeled](#Variable-Set-1)\n",
    "        - [Variable Set 2: Bedrooms and Bathrooms](#Variable-Set-2)\n",
    "        - [Variable Set 3: Square Footage](#Variable-Set-3)\n",
    "        - [Variable Set 4: General Home Evaluation](#Variable-Set-4)\n",
    "        - [Variable Set 5: All Previous Variables Combined](#Variable-Set-5)\n",
    "- [3. Project Description](#3.-Project-Description)\n",
    "    - [3.1 Linear Regression](#3.1-Linear-Regression)\n",
    "    - [3.2 Analysis](#3.2-Analysis)\n",
    "    - [3.3 Results](#3.3-Results)\n",
    "    - [3.4 Verify Your Model Against Test Data](#3.4-Verify-Your-Model-Against-Test-Data)\n",
    "- [Conclusion](#Conclusion)\n",
    "- [References](#References)"
   ]
  },
  {
   "cell_type": "markdown",
   "metadata": {},
   "source": [
    "##  Abstract\n",
    "\n",
    "This project aims to build a model to predict housing prices using linear regression given certain data. To achieve this we have tested multiple variable sets and their correlation to sale prices, and then tested the combination of the variable sets to achieve the most accurate (highest correlation) results."
   ]
  },
  {
   "cell_type": "markdown",
   "metadata": {},
   "source": [
    "[Back to top](#Housing-Price-Prediction-Model)\n",
    "\n",
    "## 1. Introduction\n",
    "\n",
    "The objective of this project is to build a housing price prediction model using linear regression. To get the most accurate results in the prediction we need to understand the correlation of the given variables and the properties' sale price. So, as a first step, we need to know those 'given variables'.\n",
    "\n",
    "We have studied the structure of the DataFrame and listed the columns to learn what we can work with. We've cleaned and organized the data to be able to try different methods. We've categorized variables into sets for further analysis. Within those categories we've replaced and added data, and renamed and dropped columns for clarity. Then, we'll produce a scatter plot, the covariance and correlation.\n",
    "\n",
    "The sets we will work with on this project are:\n",
    "- Variable Set 1: Year Built and/or Remodeled\n",
    "- Variable Set 2: Bedrooms and Bathrooms\n",
    "- Variable Set 3: Square Footage\n",
    "- Variable Set 4: General Home Evaluation\n",
    "\n",
    "Finally, to be able to achieve the best result (R^2 = 0.89), we will work with a combination of all previous variables and methods in:\n",
    "- Variable Set 5: All Previous Variables Combined"
   ]
  },
  {
   "cell_type": "markdown",
   "metadata": {},
   "source": [
    "## 2. The Data"
   ]
  },
  {
   "cell_type": "markdown",
   "metadata": {},
   "source": [
    "[Back to top](#Housing-Price-Prediction-Model)\n",
    "\n",
    "### 2.1 Import the Data\n",
    "\n",
    "Import all libraries used throughout the project, and the CSV file the includes the houses data."
   ]
  },
  {
   "cell_type": "code",
   "execution_count": 1,
   "metadata": {},
   "outputs": [],
   "source": [
    "import pandas as pd\n",
    "import numpy as np\n",
    "import matplotlib.pyplot as plt\n",
    "from sklearn import linear_model\n",
    "houses_raw = pd.read_csv('houseSmallData.csv')"
   ]
  },
  {
   "cell_type": "markdown",
   "metadata": {},
   "source": [
    "[Back to top](#Housing-Price-Prediction-Model)\n",
    "\n",
    "### 2.2 Data Exploration\n",
    "\n",
    "Getting to know the raw data by printing multiple attributes."
   ]
  },
  {
   "cell_type": "code",
   "execution_count": 2,
   "metadata": {},
   "outputs": [
    {
     "name": "stdout",
     "output_type": "stream",
     "text": [
      "1)  Dateframe Shape:  (100, 82) \n",
      "\n",
      "---\n",
      "\n",
      "2)  'Sale Price' Overview:\n",
      " count       100.000000\n",
      "mean     173820.660000\n",
      "std       72236.552886\n",
      "min       40000.000000\n",
      "25%      129362.500000\n",
      "50%      153750.000000\n",
      "75%      207750.000000\n",
      "max      438780.000000\n",
      "Name: SalePrice, dtype: float64 \n",
      "\n",
      "---\n",
      "\n",
      "3)  Full list of variables:\n",
      " ['1stFlrSF', '2ndFlrSF', '3SsnPorch', 'Alley', 'BedroomAbvGr', 'BldgType', 'BsmtCond', 'BsmtExposure', 'BsmtFinSF1', 'BsmtFinSF2', 'BsmtFinType1', 'BsmtFinType2', 'BsmtFullBath', 'BsmtHalfBath', 'BsmtQual', 'BsmtUnfSF', 'CentralAir', 'Condition1', 'Condition2', 'Electrical', 'EnclosedPorch', 'ExterCond', 'ExterQual', 'Exterior1st', 'Exterior2nd', 'Fence', 'FireplaceQu', 'Fireplaces', 'Foundation', 'FullBath', 'Functional', 'GarageArea', 'GarageCars', 'GarageCond', 'GarageFinish', 'GarageQual', 'GarageType', 'GarageYrBlt', 'GrLivArea', 'HalfBath', 'Heating', 'HeatingQC', 'HouseStyle', 'Id', 'KitchenAbvGr', 'KitchenQual', 'LandContour', 'LandSlope', 'LotArea', 'LotConfig', 'LotFrontage', 'LotShape', 'LowQualFinSF', 'MSSubClass', 'MSZoning', 'MasVnrArea', 'MasVnrType', 'MiscFeature', 'MiscVal', 'MoSold', 'Neighborhood', 'OpenPorchSF', 'OverallCond', 'OverallQual', 'PavedDrive', 'PoolArea', 'PoolQC', 'RoofMatl', 'RoofStyle', 'SaleCondition', 'SalePrice', 'SaleType', 'ScreenPorch', 'Street', 'TotRmsAbvGrd', 'TotalBsmtSF', 'Unnamed: 0', 'Utilities', 'WoodDeckSF', 'YearBuilt', 'YearRemodAdd', 'YrSold'] \n",
      "\n",
      "---\n",
      "\n",
      "4)  Identifying 'Nulls' to clean data:\n",
      " PoolQC          100\n",
      "Alley            94\n",
      "MiscFeature      91\n",
      "Fence            77\n",
      "FireplaceQu      54\n",
      "LotFrontage      14\n",
      "GarageType        6\n",
      "GarageYrBlt       6\n",
      "GarageFinish      6\n",
      "GarageQual        6\n",
      "GarageCond        6\n",
      "BsmtFinType1      3\n",
      "BsmtQual          3\n",
      "BsmtCond          3\n",
      "BsmtExposure      3\n",
      "BsmtFinType2      3\n",
      "KitchenAbvGr      0\n",
      "Functional        0\n",
      "BedroomAbvGr      0\n",
      "HalfBath          0\n",
      "dtype: int64\n"
     ]
    }
   ],
   "source": [
    "print('1)  Dateframe Shape: ',houses_raw.shape,'\\n\\n---\\n')\n",
    "print('2)  \\'Sale Price\\' Overview:\\n',houses_raw.SalePrice.describe(),'\\n\\n---\\n')\n",
    "print('3)  Full list of variables:\\n',sorted(houses_raw),'\\n\\n---\\n')\n",
    "print('4)  Identifying \\'Nulls\\' to clean data:\\n',houses_raw.isnull().sum().sort_values(ascending=False)[0:20])"
   ]
  },
  {
   "cell_type": "markdown",
   "metadata": {},
   "source": [
    "[Back to top](#Housing-Price-Prediction-Model)\n",
    "\n",
    "### 2.3 Data Preparation\n",
    "\n",
    "<ol>\n",
    "    <li>Removing <em>NULLS</em> and verifying new shape.</li>\n",
    "    <li>Organizing columns by Data Type to identify:\n",
    "<ul>\n",
    "    <li>what (numeric) variables can be used in the prediction model,</li>\n",
    "    <li>what's the relationship between some columns,</li>\n",
    "    <li>and (in combination with the <em>'data_description.txt'</em> file) identify if some<br>string values can be converted to integers to further support the model</li>\n",
    "</ul></li>\n",
    "</ol>\n"
   ]
  },
  {
   "cell_type": "code",
   "execution_count": 3,
   "metadata": {},
   "outputs": [
    {
     "data": {
      "text/plain": [
       "(100, 66)"
      ]
     },
     "execution_count": 3,
     "metadata": {},
     "output_type": "execute_result"
    }
   ],
   "source": [
    "# Removing NULLS\n",
    "\n",
    "houses_raw.dropna(axis=1, inplace=True)\n",
    "houses_raw.shape"
   ]
  },
  {
   "cell_type": "code",
   "execution_count": 4,
   "metadata": {},
   "outputs": [
    {
     "data": {
      "text/html": [
       "<div>\n",
       "<style scoped>\n",
       "    .dataframe tbody tr th:only-of-type {\n",
       "        vertical-align: middle;\n",
       "    }\n",
       "\n",
       "    .dataframe tbody tr th {\n",
       "        vertical-align: top;\n",
       "    }\n",
       "\n",
       "    .dataframe thead th {\n",
       "        text-align: right;\n",
       "    }\n",
       "</style>\n",
       "<table border=\"1\" class=\"dataframe\">\n",
       "  <thead>\n",
       "    <tr style=\"text-align: right;\">\n",
       "      <th></th>\n",
       "      <th>MasVnrArea</th>\n",
       "      <th>1stFlrSF</th>\n",
       "      <th>HalfBath</th>\n",
       "      <th>Id</th>\n",
       "      <th>KitchenAbvGr</th>\n",
       "      <th>YearRemodAdd</th>\n",
       "      <th>LotArea</th>\n",
       "      <th>LowQualFinSF</th>\n",
       "      <th>MSSubClass</th>\n",
       "      <th>MiscVal</th>\n",
       "      <th>...</th>\n",
       "      <th>Exterior1st</th>\n",
       "      <th>LotConfig</th>\n",
       "      <th>LotShape</th>\n",
       "      <th>ExterQual</th>\n",
       "      <th>ExterCond</th>\n",
       "      <th>MSZoning</th>\n",
       "      <th>MasVnrType</th>\n",
       "      <th>Electrical</th>\n",
       "      <th>Condition1</th>\n",
       "      <th>KitchenQual</th>\n",
       "    </tr>\n",
       "  </thead>\n",
       "  <tbody>\n",
       "    <tr>\n",
       "      <th>0</th>\n",
       "      <td>196.0</td>\n",
       "      <td>856</td>\n",
       "      <td>1</td>\n",
       "      <td>1</td>\n",
       "      <td>1</td>\n",
       "      <td>2003</td>\n",
       "      <td>8450</td>\n",
       "      <td>0</td>\n",
       "      <td>60</td>\n",
       "      <td>0</td>\n",
       "      <td>...</td>\n",
       "      <td>VinylSd</td>\n",
       "      <td>Inside</td>\n",
       "      <td>Reg</td>\n",
       "      <td>Gd</td>\n",
       "      <td>TA</td>\n",
       "      <td>RL</td>\n",
       "      <td>BrkFace</td>\n",
       "      <td>SBrkr</td>\n",
       "      <td>Norm</td>\n",
       "      <td>Gd</td>\n",
       "    </tr>\n",
       "    <tr>\n",
       "      <th>1</th>\n",
       "      <td>0.0</td>\n",
       "      <td>1262</td>\n",
       "      <td>0</td>\n",
       "      <td>2</td>\n",
       "      <td>1</td>\n",
       "      <td>1976</td>\n",
       "      <td>9600</td>\n",
       "      <td>0</td>\n",
       "      <td>20</td>\n",
       "      <td>0</td>\n",
       "      <td>...</td>\n",
       "      <td>MetalSd</td>\n",
       "      <td>FR2</td>\n",
       "      <td>Reg</td>\n",
       "      <td>TA</td>\n",
       "      <td>TA</td>\n",
       "      <td>RL</td>\n",
       "      <td>None</td>\n",
       "      <td>SBrkr</td>\n",
       "      <td>Feedr</td>\n",
       "      <td>TA</td>\n",
       "    </tr>\n",
       "    <tr>\n",
       "      <th>2</th>\n",
       "      <td>162.0</td>\n",
       "      <td>920</td>\n",
       "      <td>1</td>\n",
       "      <td>3</td>\n",
       "      <td>1</td>\n",
       "      <td>2002</td>\n",
       "      <td>11250</td>\n",
       "      <td>0</td>\n",
       "      <td>60</td>\n",
       "      <td>0</td>\n",
       "      <td>...</td>\n",
       "      <td>VinylSd</td>\n",
       "      <td>Inside</td>\n",
       "      <td>IR1</td>\n",
       "      <td>Gd</td>\n",
       "      <td>TA</td>\n",
       "      <td>RL</td>\n",
       "      <td>BrkFace</td>\n",
       "      <td>SBrkr</td>\n",
       "      <td>Norm</td>\n",
       "      <td>Gd</td>\n",
       "    </tr>\n",
       "    <tr>\n",
       "      <th>3</th>\n",
       "      <td>0.0</td>\n",
       "      <td>961</td>\n",
       "      <td>0</td>\n",
       "      <td>4</td>\n",
       "      <td>1</td>\n",
       "      <td>1970</td>\n",
       "      <td>9550</td>\n",
       "      <td>0</td>\n",
       "      <td>70</td>\n",
       "      <td>0</td>\n",
       "      <td>...</td>\n",
       "      <td>Wd Sdng</td>\n",
       "      <td>Corner</td>\n",
       "      <td>IR1</td>\n",
       "      <td>TA</td>\n",
       "      <td>TA</td>\n",
       "      <td>RL</td>\n",
       "      <td>None</td>\n",
       "      <td>SBrkr</td>\n",
       "      <td>Norm</td>\n",
       "      <td>Gd</td>\n",
       "    </tr>\n",
       "    <tr>\n",
       "      <th>4</th>\n",
       "      <td>350.0</td>\n",
       "      <td>1145</td>\n",
       "      <td>1</td>\n",
       "      <td>5</td>\n",
       "      <td>1</td>\n",
       "      <td>2000</td>\n",
       "      <td>14260</td>\n",
       "      <td>0</td>\n",
       "      <td>60</td>\n",
       "      <td>0</td>\n",
       "      <td>...</td>\n",
       "      <td>VinylSd</td>\n",
       "      <td>FR2</td>\n",
       "      <td>IR1</td>\n",
       "      <td>Gd</td>\n",
       "      <td>TA</td>\n",
       "      <td>RL</td>\n",
       "      <td>BrkFace</td>\n",
       "      <td>SBrkr</td>\n",
       "      <td>Norm</td>\n",
       "      <td>Gd</td>\n",
       "    </tr>\n",
       "  </tbody>\n",
       "</table>\n",
       "<p>5 rows × 66 columns</p>\n",
       "</div>"
      ],
      "text/plain": [
       "   MasVnrArea  1stFlrSF  HalfBath  Id  KitchenAbvGr  YearRemodAdd  LotArea  \\\n",
       "0       196.0       856         1   1             1          2003     8450   \n",
       "1         0.0      1262         0   2             1          1976     9600   \n",
       "2       162.0       920         1   3             1          2002    11250   \n",
       "3         0.0       961         0   4             1          1970     9550   \n",
       "4       350.0      1145         1   5             1          2000    14260   \n",
       "\n",
       "   LowQualFinSF  MSSubClass  MiscVal  ...  Exterior1st  LotConfig  LotShape  \\\n",
       "0             0          60        0  ...      VinylSd     Inside       Reg   \n",
       "1             0          20        0  ...      MetalSd        FR2       Reg   \n",
       "2             0          60        0  ...      VinylSd     Inside       IR1   \n",
       "3             0          70        0  ...      Wd Sdng     Corner       IR1   \n",
       "4             0          60        0  ...      VinylSd        FR2       IR1   \n",
       "\n",
       "   ExterQual  ExterCond  MSZoning  MasVnrType  Electrical  Condition1  \\\n",
       "0         Gd         TA        RL     BrkFace       SBrkr        Norm   \n",
       "1         TA         TA        RL        None       SBrkr       Feedr   \n",
       "2         Gd         TA        RL     BrkFace       SBrkr        Norm   \n",
       "3         TA         TA        RL        None       SBrkr        Norm   \n",
       "4         Gd         TA        RL     BrkFace       SBrkr        Norm   \n",
       "\n",
       "   KitchenQual  \n",
       "0           Gd  \n",
       "1           TA  \n",
       "2           Gd  \n",
       "3           Gd  \n",
       "4           Gd  \n",
       "\n",
       "[5 rows x 66 columns]"
      ]
     },
     "execution_count": 4,
     "metadata": {},
     "output_type": "execute_result"
    }
   ],
   "source": [
    "# Organizing Columns\n",
    "\n",
    "houses_valuessorted = houses_raw.dtypes.astype(str).sort_index().sort_values()\n",
    "houses_clean = houses_raw.reindex(columns = houses_valuessorted.index)\n",
    "houses_clean.head()"
   ]
  },
  {
   "cell_type": "markdown",
   "metadata": {},
   "source": [
    "[Back to top](#Housing-Price-Prediction-Model)\n",
    "\n",
    "### 2.4 Correlation\n",
    "\n",
    "In this project, we'll explore correlations between ***Sale Price*** and 5 different sets of variables:\n",
    "- Variable Set **1 - Year Built and/or Remodeled**\n",
    "- Variable Set **2 - Bedrooms and Bathrooms**\n",
    "- Variable Set **3 - Square Footage**\n",
    "- Variable Set **4 - General Home Evaluation**\n",
    "- Variable Set **5 - All Previous Variables Combined**\n",
    "\n",
    "Then, we'll decide what's the best combination of variables to get the highest square of the correlation (R^2)."
   ]
  },
  {
   "cell_type": "markdown",
   "metadata": {},
   "source": [
    "___"
   ]
  },
  {
   "cell_type": "markdown",
   "metadata": {},
   "source": [
    "[Back to top](#Housing-Price-Prediction-Model)\n",
    "\n",
    "> #### Variable Set 1\n",
    "\n",
    "**Year Built and/or Remodeled**\n",
    "-\n",
    "\n",
    "Explores if there's a correlation between a house's age and whether it has been remodeled or not.\n",
    "\n",
    "To achieve this we:\n",
    "- Add a 'Remodeled' column with values 1, if 'YearBuilt' and 'YearRemodAdd' are NOT equal, else 0."
   ]
  },
  {
   "cell_type": "code",
   "execution_count": 5,
   "metadata": {},
   "outputs": [
    {
     "data": {
      "text/html": [
       "<div>\n",
       "<style scoped>\n",
       "    .dataframe tbody tr th:only-of-type {\n",
       "        vertical-align: middle;\n",
       "    }\n",
       "\n",
       "    .dataframe tbody tr th {\n",
       "        vertical-align: top;\n",
       "    }\n",
       "\n",
       "    .dataframe thead th {\n",
       "        text-align: right;\n",
       "    }\n",
       "</style>\n",
       "<table border=\"1\" class=\"dataframe\">\n",
       "  <thead>\n",
       "    <tr style=\"text-align: right;\">\n",
       "      <th></th>\n",
       "      <th>SalePrice</th>\n",
       "      <th>YearBuilt</th>\n",
       "      <th>Remodeled</th>\n",
       "    </tr>\n",
       "  </thead>\n",
       "  <tbody>\n",
       "    <tr>\n",
       "      <th>0</th>\n",
       "      <td>208500</td>\n",
       "      <td>2003</td>\n",
       "      <td>0</td>\n",
       "    </tr>\n",
       "    <tr>\n",
       "      <th>1</th>\n",
       "      <td>181500</td>\n",
       "      <td>1976</td>\n",
       "      <td>0</td>\n",
       "    </tr>\n",
       "    <tr>\n",
       "      <th>2</th>\n",
       "      <td>223500</td>\n",
       "      <td>2001</td>\n",
       "      <td>1</td>\n",
       "    </tr>\n",
       "    <tr>\n",
       "      <th>3</th>\n",
       "      <td>140000</td>\n",
       "      <td>1915</td>\n",
       "      <td>1</td>\n",
       "    </tr>\n",
       "    <tr>\n",
       "      <th>4</th>\n",
       "      <td>250000</td>\n",
       "      <td>2000</td>\n",
       "      <td>0</td>\n",
       "    </tr>\n",
       "  </tbody>\n",
       "</table>\n",
       "</div>"
      ],
      "text/plain": [
       "   SalePrice  YearBuilt  Remodeled\n",
       "0     208500       2003          0\n",
       "1     181500       1976          0\n",
       "2     223500       2001          1\n",
       "3     140000       1915          1\n",
       "4     250000       2000          0"
      ]
     },
     "execution_count": 5,
     "metadata": {},
     "output_type": "execute_result"
    }
   ],
   "source": [
    "# Copy of Dataframe with Specific Columns\n",
    "house_age = houses_clean[['SalePrice','YearBuilt','YearRemodAdd']].copy()\n",
    "\n",
    "# Determine whether home has been remodeled or not.\n",
    "house_age['Remodeled'] = np.where(house_age['YearRemodAdd'] == house_age['YearBuilt'], 0, 1)\n",
    "\n",
    "# Drop unneeded column\n",
    "house_age.drop(columns=['YearRemodAdd'],inplace=True)\n",
    "\n",
    "house_age.head()"
   ]
  },
  {
   "cell_type": "markdown",
   "metadata": {},
   "source": [
    "<div class=\"alert alert-block alert-warning\">\n",
    "<b>Results for Variable Set 1</b></div>"
   ]
  },
  {
   "cell_type": "code",
   "execution_count": 6,
   "metadata": {},
   "outputs": [
    {
     "name": "stdout",
     "output_type": "stream",
     "text": [
      "R^2 = 0.4753579080438711\n"
     ]
    },
    {
     "data": {
      "text/html": [
       "<div>\n",
       "<style scoped>\n",
       "    .dataframe tbody tr th:only-of-type {\n",
       "        vertical-align: middle;\n",
       "    }\n",
       "\n",
       "    .dataframe tbody tr th {\n",
       "        vertical-align: top;\n",
       "    }\n",
       "\n",
       "    .dataframe thead th {\n",
       "        text-align: right;\n",
       "    }\n",
       "</style>\n",
       "<table border=\"1\" class=\"dataframe\">\n",
       "  <thead>\n",
       "    <tr style=\"text-align: right;\">\n",
       "      <th></th>\n",
       "      <th>SalePrice</th>\n",
       "      <th>YearBuilt</th>\n",
       "      <th>Remodeled</th>\n",
       "    </tr>\n",
       "  </thead>\n",
       "  <tbody>\n",
       "    <tr>\n",
       "      <th>SalePrice</th>\n",
       "      <td>1.000000</td>\n",
       "      <td>0.658636</td>\n",
       "      <td>-0.058330</td>\n",
       "    </tr>\n",
       "    <tr>\n",
       "      <th>YearBuilt</th>\n",
       "      <td>0.658636</td>\n",
       "      <td>1.000000</td>\n",
       "      <td>-0.375431</td>\n",
       "    </tr>\n",
       "    <tr>\n",
       "      <th>Remodeled</th>\n",
       "      <td>-0.058330</td>\n",
       "      <td>-0.375431</td>\n",
       "      <td>1.000000</td>\n",
       "    </tr>\n",
       "  </tbody>\n",
       "</table>\n",
       "</div>"
      ],
      "text/plain": [
       "           SalePrice  YearBuilt  Remodeled\n",
       "SalePrice   1.000000   0.658636  -0.058330\n",
       "YearBuilt   0.658636   1.000000  -0.375431\n",
       "Remodeled  -0.058330  -0.375431   1.000000"
      ]
     },
     "execution_count": 6,
     "metadata": {},
     "output_type": "execute_result"
    },
    {
     "data": {
      "image/png": "[encoded data removed]",
      "text/plain": [
       "<Figure size 432x288 with 1 Axes>"
      ]
     },
     "metadata": {
      "needs_background": "light"
     },
     "output_type": "display_data"
    }
   ],
   "source": [
    "# Define X and Y\n",
    "X = house_age[house_age.corr().SalePrice.index]\n",
    "Y = X['SalePrice']\n",
    "X.drop(['SalePrice'],axis=1,inplace=True)\n",
    "\n",
    "# ---\n",
    "# Linear Regression Formula\n",
    "model = linear_model.LinearRegression().fit(X,Y)\n",
    "\n",
    "# ---\n",
    "# Output\n",
    "print(f\"R^2 = {model.score(X,Y)}\")  # Covariance\n",
    "plt.scatter(model.predict(X),Y)  # Scatter Plot\n",
    "house_age.corr()  # Correlation"
   ]
  },
  {
   "cell_type": "markdown",
   "metadata": {},
   "source": [
    "___"
   ]
  },
  {
   "cell_type": "markdown",
   "metadata": {},
   "source": [
    "[Back to top](#Housing-Price-Prediction-Model)\n",
    "\n",
    "> #### Variable Set 2\n",
    "\n",
    "**Bedrooms and Bathrooms**\n",
    "-\n",
    "\n",
    "Explores if there's a sale price correlation between the number of bedrooms and bathrooms.\n",
    "\n",
    "To achieve this:\n",
    "- Values were replaced on the half baths, columns from 1 to 0.5.\n",
    "- All bathroom columns were added."
   ]
  },
  {
   "cell_type": "code",
   "execution_count": 7,
   "metadata": {},
   "outputs": [
    {
     "data": {
      "text/html": [
       "<div>\n",
       "<style scoped>\n",
       "    .dataframe tbody tr th:only-of-type {\n",
       "        vertical-align: middle;\n",
       "    }\n",
       "\n",
       "    .dataframe tbody tr th {\n",
       "        vertical-align: top;\n",
       "    }\n",
       "\n",
       "    .dataframe thead th {\n",
       "        text-align: right;\n",
       "    }\n",
       "</style>\n",
       "<table border=\"1\" class=\"dataframe\">\n",
       "  <thead>\n",
       "    <tr style=\"text-align: right;\">\n",
       "      <th></th>\n",
       "      <th>SalePrice</th>\n",
       "      <th>Bedrooms</th>\n",
       "      <th>Bathrooms</th>\n",
       "    </tr>\n",
       "  </thead>\n",
       "  <tbody>\n",
       "    <tr>\n",
       "      <th>0</th>\n",
       "      <td>208500</td>\n",
       "      <td>3</td>\n",
       "      <td>3.5</td>\n",
       "    </tr>\n",
       "    <tr>\n",
       "      <th>1</th>\n",
       "      <td>181500</td>\n",
       "      <td>3</td>\n",
       "      <td>2.5</td>\n",
       "    </tr>\n",
       "    <tr>\n",
       "      <th>2</th>\n",
       "      <td>223500</td>\n",
       "      <td>3</td>\n",
       "      <td>3.5</td>\n",
       "    </tr>\n",
       "    <tr>\n",
       "      <th>3</th>\n",
       "      <td>140000</td>\n",
       "      <td>3</td>\n",
       "      <td>2.0</td>\n",
       "    </tr>\n",
       "    <tr>\n",
       "      <th>4</th>\n",
       "      <td>250000</td>\n",
       "      <td>4</td>\n",
       "      <td>3.5</td>\n",
       "    </tr>\n",
       "  </tbody>\n",
       "</table>\n",
       "</div>"
      ],
      "text/plain": [
       "   SalePrice  Bedrooms  Bathrooms\n",
       "0     208500         3        3.5\n",
       "1     181500         3        2.5\n",
       "2     223500         3        3.5\n",
       "3     140000         3        2.0\n",
       "4     250000         4        3.5"
      ]
     },
     "execution_count": 7,
     "metadata": {},
     "output_type": "execute_result"
    }
   ],
   "source": [
    "# Copy of Dataframe with Specific Columns\n",
    "house_rooms = houses_clean[['SalePrice','BedroomAbvGr', 'BsmtFullBath','BsmtHalfBath','FullBath','HalfBath']].copy()\n",
    "\n",
    "# Replace values for half bathrooms to 0.5\n",
    "house_rooms.replace({'BsmtHalfBath':{1:0.5},'HalfBath':{1:0.5}},inplace=True)\n",
    "\n",
    "# Add column with total sum of all bathrooms. Then, drop columns included in sum.\n",
    "house_rooms['Bathrooms'] = house_rooms[['BsmtFullBath','BsmtHalfBath','FullBath','HalfBath']].sum(axis=1)\n",
    "house_rooms.drop(columns=['BsmtFullBath','BsmtHalfBath','FullBath','HalfBath'],inplace=True)\n",
    "\n",
    "# Rename columns for clarity\n",
    "house_rooms.rename(columns={'BedroomAbvGr':'Bedrooms'},inplace=True)\n",
    "\n",
    "house_rooms.head()"
   ]
  },
  {
   "cell_type": "markdown",
   "metadata": {},
   "source": [
    "<div class=\"alert alert-block alert-warning\">\n",
    "<b>Results for Variable Set 2</b></div>"
   ]
  },
  {
   "cell_type": "code",
   "execution_count": 8,
   "metadata": {},
   "outputs": [
    {
     "name": "stdout",
     "output_type": "stream",
     "text": [
      "R^2 = 0.4546432694700935\n"
     ]
    },
    {
     "data": {
      "text/html": [
       "<div>\n",
       "<style scoped>\n",
       "    .dataframe tbody tr th:only-of-type {\n",
       "        vertical-align: middle;\n",
       "    }\n",
       "\n",
       "    .dataframe tbody tr th {\n",
       "        vertical-align: top;\n",
       "    }\n",
       "\n",
       "    .dataframe thead th {\n",
       "        text-align: right;\n",
       "    }\n",
       "</style>\n",
       "<table border=\"1\" class=\"dataframe\">\n",
       "  <thead>\n",
       "    <tr style=\"text-align: right;\">\n",
       "      <th></th>\n",
       "      <th>SalePrice</th>\n",
       "      <th>Bedrooms</th>\n",
       "      <th>Bathrooms</th>\n",
       "    </tr>\n",
       "  </thead>\n",
       "  <tbody>\n",
       "    <tr>\n",
       "      <th>SalePrice</th>\n",
       "      <td>1.000000</td>\n",
       "      <td>0.233426</td>\n",
       "      <td>0.673733</td>\n",
       "    </tr>\n",
       "    <tr>\n",
       "      <th>Bedrooms</th>\n",
       "      <td>0.233426</td>\n",
       "      <td>1.000000</td>\n",
       "      <td>0.308380</td>\n",
       "    </tr>\n",
       "    <tr>\n",
       "      <th>Bathrooms</th>\n",
       "      <td>0.673733</td>\n",
       "      <td>0.308380</td>\n",
       "      <td>1.000000</td>\n",
       "    </tr>\n",
       "  </tbody>\n",
       "</table>\n",
       "</div>"
      ],
      "text/plain": [
       "           SalePrice  Bedrooms  Bathrooms\n",
       "SalePrice   1.000000  0.233426   0.673733\n",
       "Bedrooms    0.233426  1.000000   0.308380\n",
       "Bathrooms   0.673733  0.308380   1.000000"
      ]
     },
     "execution_count": 8,
     "metadata": {},
     "output_type": "execute_result"
    },
    {
     "data": {
      "image/png": "[encoded data removed]",
      "text/plain": [
       "<Figure size 432x288 with 1 Axes>"
      ]
     },
     "metadata": {
      "needs_background": "light"
     },
     "output_type": "display_data"
    }
   ],
   "source": [
    "# Define X and Y\n",
    "X = house_rooms[house_rooms.corr().SalePrice.index]\n",
    "Y = X['SalePrice']\n",
    "X.drop(['SalePrice'],axis=1,inplace=True)\n",
    "\n",
    "# ---\n",
    "# Linear Regression Formula\n",
    "model = linear_model.LinearRegression().fit(X,Y)\n",
    "\n",
    "# ---\n",
    "# Output\n",
    "print(f\"R^2 = {model.score(X,Y)}\")  # Covariance\n",
    "plt.scatter(model.predict(X),Y)  # Scatter Plot\n",
    "house_rooms.corr()  # Correlation"
   ]
  },
  {
   "cell_type": "markdown",
   "metadata": {},
   "source": [
    "___"
   ]
  },
  {
   "cell_type": "markdown",
   "metadata": {},
   "source": [
    "[Back to top](#Housing-Price-Prediction-Model)\n",
    "\n",
    "> #### Variable Set 3\n",
    "\n",
    "**Square Footage**\n",
    "-\n",
    "\n",
    "Explores if there's a correlation between a house's square footage and the sale price.\n",
    "\n",
    "To achieve this:\n",
    "- All deck and porch square footage was added into a new column 'SqFt_DeckPorch'."
   ]
  },
  {
   "cell_type": "code",
   "execution_count": 9,
   "metadata": {},
   "outputs": [
    {
     "data": {
      "text/html": [
       "<div>\n",
       "<style scoped>\n",
       "    .dataframe tbody tr th:only-of-type {\n",
       "        vertical-align: middle;\n",
       "    }\n",
       "\n",
       "    .dataframe tbody tr th {\n",
       "        vertical-align: top;\n",
       "    }\n",
       "\n",
       "    .dataframe thead th {\n",
       "        text-align: right;\n",
       "    }\n",
       "</style>\n",
       "<table border=\"1\" class=\"dataframe\">\n",
       "  <thead>\n",
       "    <tr style=\"text-align: right;\">\n",
       "      <th></th>\n",
       "      <th>SalePrice</th>\n",
       "      <th>SqFt_Lot</th>\n",
       "      <th>SqFt_Living</th>\n",
       "      <th>SqFt_FinBsmt</th>\n",
       "      <th>SqFt_Garage</th>\n",
       "      <th>SqFt_MasVnr</th>\n",
       "      <th>SqFt_DeckPorch</th>\n",
       "    </tr>\n",
       "  </thead>\n",
       "  <tbody>\n",
       "    <tr>\n",
       "      <th>0</th>\n",
       "      <td>208500</td>\n",
       "      <td>8450</td>\n",
       "      <td>1710</td>\n",
       "      <td>706</td>\n",
       "      <td>548</td>\n",
       "      <td>196.0</td>\n",
       "      <td>61</td>\n",
       "    </tr>\n",
       "    <tr>\n",
       "      <th>1</th>\n",
       "      <td>181500</td>\n",
       "      <td>9600</td>\n",
       "      <td>1262</td>\n",
       "      <td>978</td>\n",
       "      <td>460</td>\n",
       "      <td>0.0</td>\n",
       "      <td>298</td>\n",
       "    </tr>\n",
       "    <tr>\n",
       "      <th>2</th>\n",
       "      <td>223500</td>\n",
       "      <td>11250</td>\n",
       "      <td>1786</td>\n",
       "      <td>486</td>\n",
       "      <td>608</td>\n",
       "      <td>162.0</td>\n",
       "      <td>42</td>\n",
       "    </tr>\n",
       "    <tr>\n",
       "      <th>3</th>\n",
       "      <td>140000</td>\n",
       "      <td>9550</td>\n",
       "      <td>1717</td>\n",
       "      <td>216</td>\n",
       "      <td>642</td>\n",
       "      <td>0.0</td>\n",
       "      <td>307</td>\n",
       "    </tr>\n",
       "    <tr>\n",
       "      <th>4</th>\n",
       "      <td>250000</td>\n",
       "      <td>14260</td>\n",
       "      <td>2198</td>\n",
       "      <td>655</td>\n",
       "      <td>836</td>\n",
       "      <td>350.0</td>\n",
       "      <td>276</td>\n",
       "    </tr>\n",
       "  </tbody>\n",
       "</table>\n",
       "</div>"
      ],
      "text/plain": [
       "   SalePrice  SqFt_Lot  SqFt_Living  SqFt_FinBsmt  SqFt_Garage  SqFt_MasVnr  \\\n",
       "0     208500      8450         1710           706          548        196.0   \n",
       "1     181500      9600         1262           978          460          0.0   \n",
       "2     223500     11250         1786           486          608        162.0   \n",
       "3     140000      9550         1717           216          642          0.0   \n",
       "4     250000     14260         2198           655          836        350.0   \n",
       "\n",
       "   SqFt_DeckPorch  \n",
       "0              61  \n",
       "1             298  \n",
       "2              42  \n",
       "3             307  \n",
       "4             276  "
      ]
     },
     "execution_count": 9,
     "metadata": {},
     "output_type": "execute_result"
    }
   ],
   "source": [
    "# Copy of Dataframe with Specific Columns\n",
    "house_sqft = houses_clean[['SalePrice','LotArea','GrLivArea','BsmtFinSF1','GarageArea',\n",
    "                      'WoodDeckSF','OpenPorchSF','EnclosedPorch','3SsnPorch','ScreenPorch',\n",
    "                      'MasVnrArea']].copy()\n",
    "\n",
    "# Add column with total sum of all porch/deck sq.ft. Then, drop columns included in sum.\n",
    "house_sqft['SqFt_DeckPorch'] = house_sqft[['WoodDeckSF','OpenPorchSF','EnclosedPorch','3SsnPorch','ScreenPorch']].sum(axis=1)\n",
    "house_sqft.drop(columns=['WoodDeckSF','OpenPorchSF','EnclosedPorch','3SsnPorch','ScreenPorch'],inplace=True)\n",
    "\n",
    "# Rename columns for clarity\n",
    "house_sqft.rename(columns={'LotArea':'SqFt_Lot',\n",
    "                           'GrLivArea':'SqFt_Living',\n",
    "                           'BsmtFinSF1':'SqFt_FinBsmt',\n",
    "                           'GarageArea':'SqFt_Garage',\n",
    "                           'MasVnrArea':'SqFt_MasVnr'},inplace=True)\n",
    "house_sqft.head()"
   ]
  },
  {
   "cell_type": "markdown",
   "metadata": {},
   "source": [
    "<div class=\"alert alert-block alert-warning\">\n",
    "<b>Results for Variable Set 3</b></div>"
   ]
  },
  {
   "cell_type": "code",
   "execution_count": 10,
   "metadata": {},
   "outputs": [
    {
     "name": "stdout",
     "output_type": "stream",
     "text": [
      "R^2 = 0.7405774384691417\n"
     ]
    },
    {
     "data": {
      "text/html": [
       "<div>\n",
       "<style scoped>\n",
       "    .dataframe tbody tr th:only-of-type {\n",
       "        vertical-align: middle;\n",
       "    }\n",
       "\n",
       "    .dataframe tbody tr th {\n",
       "        vertical-align: top;\n",
       "    }\n",
       "\n",
       "    .dataframe thead th {\n",
       "        text-align: right;\n",
       "    }\n",
       "</style>\n",
       "<table border=\"1\" class=\"dataframe\">\n",
       "  <thead>\n",
       "    <tr style=\"text-align: right;\">\n",
       "      <th></th>\n",
       "      <th>SalePrice</th>\n",
       "      <th>SqFt_Lot</th>\n",
       "      <th>SqFt_Living</th>\n",
       "      <th>SqFt_FinBsmt</th>\n",
       "      <th>SqFt_Garage</th>\n",
       "      <th>SqFt_MasVnr</th>\n",
       "      <th>SqFt_DeckPorch</th>\n",
       "    </tr>\n",
       "  </thead>\n",
       "  <tbody>\n",
       "    <tr>\n",
       "      <th>SalePrice</th>\n",
       "      <td>1.000000</td>\n",
       "      <td>0.497124</td>\n",
       "      <td>0.735129</td>\n",
       "      <td>0.266713</td>\n",
       "      <td>0.688249</td>\n",
       "      <td>0.571836</td>\n",
       "      <td>0.408352</td>\n",
       "    </tr>\n",
       "    <tr>\n",
       "      <th>SqFt_Lot</th>\n",
       "      <td>0.497124</td>\n",
       "      <td>1.000000</td>\n",
       "      <td>0.344181</td>\n",
       "      <td>0.356781</td>\n",
       "      <td>0.382192</td>\n",
       "      <td>0.094462</td>\n",
       "      <td>0.466149</td>\n",
       "    </tr>\n",
       "    <tr>\n",
       "      <th>SqFt_Living</th>\n",
       "      <td>0.735129</td>\n",
       "      <td>0.344181</td>\n",
       "      <td>1.000000</td>\n",
       "      <td>0.141221</td>\n",
       "      <td>0.489721</td>\n",
       "      <td>0.549756</td>\n",
       "      <td>0.357848</td>\n",
       "    </tr>\n",
       "    <tr>\n",
       "      <th>SqFt_FinBsmt</th>\n",
       "      <td>0.266713</td>\n",
       "      <td>0.356781</td>\n",
       "      <td>0.141221</td>\n",
       "      <td>1.000000</td>\n",
       "      <td>0.161054</td>\n",
       "      <td>0.214430</td>\n",
       "      <td>0.255584</td>\n",
       "    </tr>\n",
       "    <tr>\n",
       "      <th>SqFt_Garage</th>\n",
       "      <td>0.688249</td>\n",
       "      <td>0.382192</td>\n",
       "      <td>0.489721</td>\n",
       "      <td>0.161054</td>\n",
       "      <td>1.000000</td>\n",
       "      <td>0.398683</td>\n",
       "      <td>0.317158</td>\n",
       "    </tr>\n",
       "    <tr>\n",
       "      <th>SqFt_MasVnr</th>\n",
       "      <td>0.571836</td>\n",
       "      <td>0.094462</td>\n",
       "      <td>0.549756</td>\n",
       "      <td>0.214430</td>\n",
       "      <td>0.398683</td>\n",
       "      <td>1.000000</td>\n",
       "      <td>0.200187</td>\n",
       "    </tr>\n",
       "    <tr>\n",
       "      <th>SqFt_DeckPorch</th>\n",
       "      <td>0.408352</td>\n",
       "      <td>0.466149</td>\n",
       "      <td>0.357848</td>\n",
       "      <td>0.255584</td>\n",
       "      <td>0.317158</td>\n",
       "      <td>0.200187</td>\n",
       "      <td>1.000000</td>\n",
       "    </tr>\n",
       "  </tbody>\n",
       "</table>\n",
       "</div>"
      ],
      "text/plain": [
       "                SalePrice  SqFt_Lot  SqFt_Living  SqFt_FinBsmt  SqFt_Garage  \\\n",
       "SalePrice        1.000000  0.497124     0.735129      0.266713     0.688249   \n",
       "SqFt_Lot         0.497124  1.000000     0.344181      0.356781     0.382192   \n",
       "SqFt_Living      0.735129  0.344181     1.000000      0.141221     0.489721   \n",
       "SqFt_FinBsmt     0.266713  0.356781     0.141221      1.000000     0.161054   \n",
       "SqFt_Garage      0.688249  0.382192     0.489721      0.161054     1.000000   \n",
       "SqFt_MasVnr      0.571836  0.094462     0.549756      0.214430     0.398683   \n",
       "SqFt_DeckPorch   0.408352  0.466149     0.357848      0.255584     0.317158   \n",
       "\n",
       "                SqFt_MasVnr  SqFt_DeckPorch  \n",
       "SalePrice          0.571836        0.408352  \n",
       "SqFt_Lot           0.094462        0.466149  \n",
       "SqFt_Living        0.549756        0.357848  \n",
       "SqFt_FinBsmt       0.214430        0.255584  \n",
       "SqFt_Garage        0.398683        0.317158  \n",
       "SqFt_MasVnr        1.000000        0.200187  \n",
       "SqFt_DeckPorch     0.200187        1.000000  "
      ]
     },
     "execution_count": 10,
     "metadata": {},
     "output_type": "execute_result"
    },
    {
     "data": {
      "image/png": "[encoded data removed]",
      "text/plain": [
       "<Figure size 432x288 with 1 Axes>"
      ]
     },
     "metadata": {
      "needs_background": "light"
     },
     "output_type": "display_data"
    }
   ],
   "source": [
    "# Define X and Y\n",
    "X = house_sqft[house_sqft.corr().SalePrice.index]\n",
    "Y = X['SalePrice']\n",
    "X.drop(['SalePrice'],axis=1,inplace=True)\n",
    "\n",
    "# ---\n",
    "# Linear Regression Formula\n",
    "model = linear_model.LinearRegression().fit(X,Y)\n",
    "\n",
    "# ---\n",
    "# Output\n",
    "print(f\"R^2 = {model.score(X,Y)}\")  # Covariance\n",
    "plt.scatter(model.predict(X),Y)  # Scatter Plot\n",
    "house_sqft.corr()  # Correlation"
   ]
  },
  {
   "cell_type": "markdown",
   "metadata": {},
   "source": [
    "___"
   ]
  },
  {
   "cell_type": "markdown",
   "metadata": {},
   "source": [
    "[Back to top](#Housing-Price-Prediction-Model)\n",
    "\n",
    "> #### Variable Set 4\n",
    "\n",
    "**General Home Evaluation**\n",
    "-\n",
    "\n",
    "Explores if there's a correlation between a homes quality/condition with its sale price.\n",
    "\n",
    "To achieve this we:\n",
    "- Replace string values with integers on some variables."
   ]
  },
  {
   "cell_type": "code",
   "execution_count": 11,
   "metadata": {},
   "outputs": [
    {
     "name": "stdout",
     "output_type": "stream",
     "text": [
      "[208500 181500 223500 140000 250000 143000 307000 200000 129900 118000\n",
      " 129500 345000 144000 279500 157000 132000 149000  90000 159000 139000\n",
      " 325300 139400 230000 154000 256300 134800 306000 207500  68500  40000\n",
      " 149350 179900 165500 277500 309000 145000 153000 109000  82000 160000\n",
      " 170000 130250 141000 319900 239686 249700 113000 127000 177000 114500\n",
      " 110000 385000 130000 180500 172500 196500 438780 124900 158000 101000\n",
      " 202500 219500 317000 180000 226000  80000 225000 244000 185000 144900\n",
      " 107400  91000 135750 136500 193500 153500 245000 126500 168500 260000\n",
      " 174000 164500  85000 123600 109900  98600 163500 133900 204750 214000\n",
      "  94750  83000 128950]\n",
      "['Gd' 'TA' 'Ex' 'Fa']\n",
      "['Gd' 'TA' 'Ex' 'Fa']\n",
      "['TA' 'Gd' 'Fa']\n",
      "[ 7  6  8  5  9  4 10  3]\n",
      "[5 8 6 7 4 2 3]\n"
     ]
    }
   ],
   "source": [
    "# Copy of Dataframe with Specific Columns\n",
    "house_eval = houses_clean[['SalePrice','KitchenQual','ExterQual','ExterCond','OverallQual','OverallCond']].copy()\n",
    "\n",
    "# Some of the columns don't have numeric data, so we need to replace values.\n",
    "# Before doing so, we must identify unique values in all columns to determine how to replace data.\n",
    "for col in house_eval:\n",
    "    print(house_eval[col].unique())"
   ]
  },
  {
   "cell_type": "code",
   "execution_count": 12,
   "metadata": {},
   "outputs": [
    {
     "name": "stdout",
     "output_type": "stream",
     "text": [
      "[208500 181500 223500 140000 250000 143000 307000 200000 129900 118000\n",
      " 129500 345000 144000 279500 157000 132000 149000  90000 159000 139000\n",
      " 325300 139400 230000 154000 256300 134800 306000 207500  68500  40000\n",
      " 149350 179900 165500 277500 309000 145000 153000 109000  82000 160000\n",
      " 170000 130250 141000 319900 239686 249700 113000 127000 177000 114500\n",
      " 110000 385000 130000 180500 172500 196500 438780 124900 158000 101000\n",
      " 202500 219500 317000 180000 226000  80000 225000 244000 185000 144900\n",
      " 107400  91000 135750 136500 193500 153500 245000 126500 168500 260000\n",
      " 174000 164500  85000 123600 109900  98600 163500 133900 204750 214000\n",
      "  94750  83000 128950]\n",
      "[4 3 5 2]\n",
      "[4 3 5 2]\n",
      "[3 4 2]\n",
      "[ 7  6  8  5  9  4 10  3]\n",
      "[5 8 6 7 4 2 3]\n"
     ]
    }
   ],
   "source": [
    "# We've determined the following columns' data can be replaced with numeric values.\n",
    "rating = ['KitchenQual','ExterQual','ExterCond']\n",
    "house_eval[rating] = house_eval[rating].replace({'Ex':5,'Gd':4,'TA':3,'Fa':2,'Po':1})\n",
    "\n",
    "# Confirm values have been replaced, by identifying all unique values once again.\n",
    "for col in house_eval:\n",
    "    print(house_eval[col].unique())"
   ]
  },
  {
   "cell_type": "markdown",
   "metadata": {},
   "source": [
    "<div class=\"alert alert-block alert-warning\">\n",
    "<b>Results for Variable Set 4</b></div>"
   ]
  },
  {
   "cell_type": "code",
   "execution_count": 13,
   "metadata": {},
   "outputs": [
    {
     "name": "stdout",
     "output_type": "stream",
     "text": [
      "R^2 = 0.7791766006753547\n"
     ]
    },
    {
     "data": {
      "text/html": [
       "<div>\n",
       "<style scoped>\n",
       "    .dataframe tbody tr th:only-of-type {\n",
       "        vertical-align: middle;\n",
       "    }\n",
       "\n",
       "    .dataframe tbody tr th {\n",
       "        vertical-align: top;\n",
       "    }\n",
       "\n",
       "    .dataframe thead th {\n",
       "        text-align: right;\n",
       "    }\n",
       "</style>\n",
       "<table border=\"1\" class=\"dataframe\">\n",
       "  <thead>\n",
       "    <tr style=\"text-align: right;\">\n",
       "      <th></th>\n",
       "      <th>SalePrice</th>\n",
       "      <th>KitchenQual</th>\n",
       "      <th>ExterQual</th>\n",
       "      <th>ExterCond</th>\n",
       "      <th>OverallQual</th>\n",
       "      <th>OverallCond</th>\n",
       "    </tr>\n",
       "  </thead>\n",
       "  <tbody>\n",
       "    <tr>\n",
       "      <th>SalePrice</th>\n",
       "      <td>1.000000</td>\n",
       "      <td>0.683071</td>\n",
       "      <td>0.743234</td>\n",
       "      <td>0.029992</td>\n",
       "      <td>0.855061</td>\n",
       "      <td>-0.170443</td>\n",
       "    </tr>\n",
       "    <tr>\n",
       "      <th>KitchenQual</th>\n",
       "      <td>0.683071</td>\n",
       "      <td>1.000000</td>\n",
       "      <td>0.669493</td>\n",
       "      <td>0.065048</td>\n",
       "      <td>0.690203</td>\n",
       "      <td>-0.116505</td>\n",
       "    </tr>\n",
       "    <tr>\n",
       "      <th>ExterQual</th>\n",
       "      <td>0.743234</td>\n",
       "      <td>0.669493</td>\n",
       "      <td>1.000000</td>\n",
       "      <td>0.049093</td>\n",
       "      <td>0.706505</td>\n",
       "      <td>-0.128052</td>\n",
       "    </tr>\n",
       "    <tr>\n",
       "      <th>ExterCond</th>\n",
       "      <td>0.029992</td>\n",
       "      <td>0.065048</td>\n",
       "      <td>0.049093</td>\n",
       "      <td>1.000000</td>\n",
       "      <td>-0.053032</td>\n",
       "      <td>0.426093</td>\n",
       "    </tr>\n",
       "    <tr>\n",
       "      <th>OverallQual</th>\n",
       "      <td>0.855061</td>\n",
       "      <td>0.690203</td>\n",
       "      <td>0.706505</td>\n",
       "      <td>-0.053032</td>\n",
       "      <td>1.000000</td>\n",
       "      <td>-0.154939</td>\n",
       "    </tr>\n",
       "    <tr>\n",
       "      <th>OverallCond</th>\n",
       "      <td>-0.170443</td>\n",
       "      <td>-0.116505</td>\n",
       "      <td>-0.128052</td>\n",
       "      <td>0.426093</td>\n",
       "      <td>-0.154939</td>\n",
       "      <td>1.000000</td>\n",
       "    </tr>\n",
       "  </tbody>\n",
       "</table>\n",
       "</div>"
      ],
      "text/plain": [
       "             SalePrice  KitchenQual  ExterQual  ExterCond  OverallQual  \\\n",
       "SalePrice     1.000000     0.683071   0.743234   0.029992     0.855061   \n",
       "KitchenQual   0.683071     1.000000   0.669493   0.065048     0.690203   \n",
       "ExterQual     0.743234     0.669493   1.000000   0.049093     0.706505   \n",
       "ExterCond     0.029992     0.065048   0.049093   1.000000    -0.053032   \n",
       "OverallQual   0.855061     0.690203   0.706505  -0.053032     1.000000   \n",
       "OverallCond  -0.170443    -0.116505  -0.128052   0.426093    -0.154939   \n",
       "\n",
       "             OverallCond  \n",
       "SalePrice      -0.170443  \n",
       "KitchenQual    -0.116505  \n",
       "ExterQual      -0.128052  \n",
       "ExterCond       0.426093  \n",
       "OverallQual    -0.154939  \n",
       "OverallCond     1.000000  "
      ]
     },
     "execution_count": 13,
     "metadata": {},
     "output_type": "execute_result"
    },
    {
     "data": {
      "image/png": "[encoded data removed]",
      "text/plain": [
       "<Figure size 432x288 with 1 Axes>"
      ]
     },
     "metadata": {
      "needs_background": "light"
     },
     "output_type": "display_data"
    }
   ],
   "source": [
    "# Define X and Y\n",
    "X = house_eval[house_eval.corr().SalePrice.index]\n",
    "Y = X['SalePrice']\n",
    "X.drop(['SalePrice'],axis=1,inplace=True)\n",
    "\n",
    "# ---\n",
    "# Linear Regression Formula\n",
    "model = linear_model.LinearRegression().fit(X,Y)\n",
    "\n",
    "# ---\n",
    "# Output\n",
    "print(f\"R^2 = {model.score(X,Y)}\")  # Covariance\n",
    "plt.scatter(model.predict(X),Y)  # Scatter Plot\n",
    "house_eval.corr()  # Correlation Table"
   ]
  },
  {
   "cell_type": "markdown",
   "metadata": {},
   "source": [
    "___"
   ]
  },
  {
   "cell_type": "markdown",
   "metadata": {},
   "source": [
    "[Back to top](#Housing-Price-Prediction-Model)\n",
    "\n",
    "> #### Variable Set 5\n",
    "\n",
    "**All Previous Variables Combined**\n",
    "-\n",
    "\n",
    "Explores if there's a correlation improvement when applying all the previous data modifications together.\n",
    "\n",
    "To achieve this we:\n",
    "1. Add a 'Remodeled' column with values 1, if 'YearBuilt' and 'YearRemodAdd' are NOT equal, else 0.\n",
    "2. Values are replaced on the half baths, columns from 1 to 0.5. Then, all bathroom columns are added.\n",
    "3. All deck and porch square footage is added into a new column 'SqFt_DeckPorch'.\n",
    "4. Replace string values with integers on some variables."
   ]
  },
  {
   "cell_type": "code",
   "execution_count": 14,
   "metadata": {
    "scrolled": true
   },
   "outputs": [
    {
     "data": {
      "text/html": [
       "<div>\n",
       "<style scoped>\n",
       "    .dataframe tbody tr th:only-of-type {\n",
       "        vertical-align: middle;\n",
       "    }\n",
       "\n",
       "    .dataframe tbody tr th {\n",
       "        vertical-align: top;\n",
       "    }\n",
       "\n",
       "    .dataframe thead th {\n",
       "        text-align: right;\n",
       "    }\n",
       "</style>\n",
       "<table border=\"1\" class=\"dataframe\">\n",
       "  <thead>\n",
       "    <tr style=\"text-align: right;\">\n",
       "      <th></th>\n",
       "      <th>SalePrice</th>\n",
       "      <th>Bedrooms</th>\n",
       "      <th>Bathrooms</th>\n",
       "      <th>YearBuilt</th>\n",
       "      <th>Remodeled</th>\n",
       "      <th>KitchenQual</th>\n",
       "      <th>ExterQual</th>\n",
       "      <th>ExterCond</th>\n",
       "      <th>OverallQual</th>\n",
       "      <th>OverallCond</th>\n",
       "      <th>SqFt_DeckPorch</th>\n",
       "      <th>SqFt_FinBsmt</th>\n",
       "      <th>SqFt_Garage</th>\n",
       "      <th>SqFt_Living</th>\n",
       "      <th>SqFt_Lot</th>\n",
       "      <th>SqFt_MasVnr</th>\n",
       "    </tr>\n",
       "  </thead>\n",
       "  <tbody>\n",
       "    <tr>\n",
       "      <th>0</th>\n",
       "      <td>208500</td>\n",
       "      <td>3</td>\n",
       "      <td>3.5</td>\n",
       "      <td>2003</td>\n",
       "      <td>0</td>\n",
       "      <td>4</td>\n",
       "      <td>4</td>\n",
       "      <td>3</td>\n",
       "      <td>7</td>\n",
       "      <td>5</td>\n",
       "      <td>61</td>\n",
       "      <td>706</td>\n",
       "      <td>548</td>\n",
       "      <td>1710</td>\n",
       "      <td>8450</td>\n",
       "      <td>196.0</td>\n",
       "    </tr>\n",
       "    <tr>\n",
       "      <th>1</th>\n",
       "      <td>181500</td>\n",
       "      <td>3</td>\n",
       "      <td>2.5</td>\n",
       "      <td>1976</td>\n",
       "      <td>0</td>\n",
       "      <td>3</td>\n",
       "      <td>3</td>\n",
       "      <td>3</td>\n",
       "      <td>6</td>\n",
       "      <td>8</td>\n",
       "      <td>298</td>\n",
       "      <td>978</td>\n",
       "      <td>460</td>\n",
       "      <td>1262</td>\n",
       "      <td>9600</td>\n",
       "      <td>0.0</td>\n",
       "    </tr>\n",
       "    <tr>\n",
       "      <th>2</th>\n",
       "      <td>223500</td>\n",
       "      <td>3</td>\n",
       "      <td>3.5</td>\n",
       "      <td>2001</td>\n",
       "      <td>1</td>\n",
       "      <td>4</td>\n",
       "      <td>4</td>\n",
       "      <td>3</td>\n",
       "      <td>7</td>\n",
       "      <td>5</td>\n",
       "      <td>42</td>\n",
       "      <td>486</td>\n",
       "      <td>608</td>\n",
       "      <td>1786</td>\n",
       "      <td>11250</td>\n",
       "      <td>162.0</td>\n",
       "    </tr>\n",
       "    <tr>\n",
       "      <th>3</th>\n",
       "      <td>140000</td>\n",
       "      <td>3</td>\n",
       "      <td>2.0</td>\n",
       "      <td>1915</td>\n",
       "      <td>1</td>\n",
       "      <td>4</td>\n",
       "      <td>3</td>\n",
       "      <td>3</td>\n",
       "      <td>7</td>\n",
       "      <td>5</td>\n",
       "      <td>307</td>\n",
       "      <td>216</td>\n",
       "      <td>642</td>\n",
       "      <td>1717</td>\n",
       "      <td>9550</td>\n",
       "      <td>0.0</td>\n",
       "    </tr>\n",
       "    <tr>\n",
       "      <th>4</th>\n",
       "      <td>250000</td>\n",
       "      <td>4</td>\n",
       "      <td>3.5</td>\n",
       "      <td>2000</td>\n",
       "      <td>0</td>\n",
       "      <td>4</td>\n",
       "      <td>4</td>\n",
       "      <td>3</td>\n",
       "      <td>8</td>\n",
       "      <td>5</td>\n",
       "      <td>276</td>\n",
       "      <td>655</td>\n",
       "      <td>836</td>\n",
       "      <td>2198</td>\n",
       "      <td>14260</td>\n",
       "      <td>350.0</td>\n",
       "    </tr>\n",
       "  </tbody>\n",
       "</table>\n",
       "</div>"
      ],
      "text/plain": [
       "   SalePrice  Bedrooms  Bathrooms  YearBuilt  Remodeled  KitchenQual  \\\n",
       "0     208500         3        3.5       2003          0            4   \n",
       "1     181500         3        2.5       1976          0            3   \n",
       "2     223500         3        3.5       2001          1            4   \n",
       "3     140000         3        2.0       1915          1            4   \n",
       "4     250000         4        3.5       2000          0            4   \n",
       "\n",
       "   ExterQual  ExterCond  OverallQual  OverallCond  SqFt_DeckPorch  \\\n",
       "0          4          3            7            5              61   \n",
       "1          3          3            6            8             298   \n",
       "2          4          3            7            5              42   \n",
       "3          3          3            7            5             307   \n",
       "4          4          3            8            5             276   \n",
       "\n",
       "   SqFt_FinBsmt  SqFt_Garage  SqFt_Living  SqFt_Lot  SqFt_MasVnr  \n",
       "0           706          548         1710      8450        196.0  \n",
       "1           978          460         1262      9600          0.0  \n",
       "2           486          608         1786     11250        162.0  \n",
       "3           216          642         1717      9550          0.0  \n",
       "4           655          836         2198     14260        350.0  "
      ]
     },
     "execution_count": 14,
     "metadata": {},
     "output_type": "execute_result"
    }
   ],
   "source": [
    "# Copy of Dataframe with Specific Columns\n",
    "homes = houses_clean[['SalePrice','YearBuilt','YearRemodAdd','BedroomAbvGr','BsmtFullBath',\n",
    "                      'BsmtHalfBath','FullBath','HalfBath','LotArea','GrLivArea','BsmtFinSF1','GarageArea',\n",
    "                      'WoodDeckSF','OpenPorchSF','EnclosedPorch','3SsnPorch','ScreenPorch','MasVnrArea',\n",
    "                      'KitchenQual','ExterQual','ExterCond','OverallQual','OverallCond']].copy()\n",
    "\n",
    "# Reproduce the same data modifications as in all the previous trials:\n",
    "homes['Remodeled'] = np.where(homes['YearRemodAdd'] == homes['YearBuilt'], 0, 1)    # 1 - Year Built and/or remodeled\n",
    "homes.replace({'BsmtHalfBath':{1:0.5},'HalfBath':{1:0.5}},inplace=True)    # 2 - Bedrooms and Baths\n",
    "homes['Bathrooms'] = homes[['BsmtFullBath','BsmtHalfBath','FullBath','HalfBath']].sum(axis=1)\n",
    "homes['SqFt_DeckPorch'] = homes[['WoodDeckSF','OpenPorchSF','EnclosedPorch','3SsnPorch','ScreenPorch']].sum(axis=1)    # 3 - Square Footage\n",
    "rating = ['KitchenQual','ExterQual','ExterCond']    # 4 - General Home Evaluation\n",
    "homes[rating] = homes[rating].replace({'Ex':5,'Gd':4,'TA':3,'Fa':2,'Po':1})\n",
    "\n",
    "# ---\n",
    "# Drop Needless Columns\n",
    "homes.drop(columns=['YearRemodAdd','BsmtFullBath','BsmtHalfBath','FullBath','HalfBath',\n",
    "                            'WoodDeckSF','OpenPorchSF','EnclosedPorch','3SsnPorch','ScreenPorch'],inplace=True)\n",
    "# Rename columns for clarity\n",
    "homes.rename(columns={'BedroomAbvGr':'Bedrooms',\n",
    "                      'LotArea':'SqFt_Lot',\n",
    "                      'GrLivArea':'SqFt_Living',\n",
    "                      'BsmtFinSF1':'SqFt_FinBsmt',\n",
    "                      'GarageArea':'SqFt_Garage',\n",
    "                      'MasVnrArea':'SqFt_MasVnr'},inplace=True)\n",
    "# Organize columns for improved presentation\n",
    "homes = homes.reindex(columns=['SalePrice','Bedrooms','Bathrooms','YearBuilt','Remodeled',\n",
    "                               'KitchenQual','ExterQual','ExterCond','OverallQual','OverallCond',\n",
    "                               'SqFt_DeckPorch','SqFt_FinBsmt','SqFt_Garage','SqFt_Living','SqFt_Lot','SqFt_MasVnr',])\n",
    "homes.head()"
   ]
  },
  {
   "cell_type": "markdown",
   "metadata": {},
   "source": [
    "<div class=\"alert alert-block alert-warning\">\n",
    "<b>Results for Variable Set 5</b></div>"
   ]
  },
  {
   "cell_type": "code",
   "execution_count": 15,
   "metadata": {
    "scrolled": false
   },
   "outputs": [
    {
     "name": "stdout",
     "output_type": "stream",
     "text": [
      "R^2 = 0.9003659771675001\n"
     ]
    },
    {
     "data": {
      "text/plain": [
       "<matplotlib.collections.PathCollection at 0x7ff3fb7b1bb0>"
      ]
     },
     "execution_count": 15,
     "metadata": {},
     "output_type": "execute_result"
    },
    {
     "data": {
      "image/png": "[encoded data removed]",
      "text/plain": [
       "<Figure size 432x288 with 1 Axes>"
      ]
     },
     "metadata": {
      "needs_background": "light"
     },
     "output_type": "display_data"
    }
   ],
   "source": [
    "# Define X and Y\n",
    "X = homes[homes.corr().SalePrice.index]\n",
    "Y = X['SalePrice']\n",
    "X.drop(['SalePrice'],axis=1,inplace=True)\n",
    "\n",
    "# ---\n",
    "# Linear Regression Formula\n",
    "model = linear_model.LinearRegression().fit(X,Y)\n",
    "\n",
    "# ---\n",
    "# Output\n",
    "print(f\"R^2 = {model.score(X,Y)}\")  # Covariance\n",
    "plt.scatter(model.predict(X),Y)  # Scatter Plot\n",
    "#homes.corr()  # Correlation Table"
   ]
  },
  {
   "cell_type": "markdown",
   "metadata": {},
   "source": [
    "<div class=\"alert alert-block alert-success\">\n",
    "<b>Conclusion:</b> Variable Set 5 is the most correlated to Sale Price, with an R^2 greater than 0.89.<br>This proves that the more numerical data we can gather for each property the more correlated.</div>"
   ]
  },
  {
   "cell_type": "markdown",
   "metadata": {},
   "source": [
    "___"
   ]
  },
  {
   "cell_type": "markdown",
   "metadata": {},
   "source": [
    "[Back to top](#Housing-Price-Prediction-Model)\n",
    "\n",
    "## 3. Project Description\n",
    "\n",
    "With the objective of building a House Price Prediction Model, we needed to determine what are the variables or combination of variables that would have a strong correlation with Sale Price.\n",
    "\n",
    "By examining the data (column names, descriptions, data types and null values) I was able to choose and categorize what variables I can work with or test.\n",
    "\n",
    "In section [2.4 Correlation](#2.4-Correlation) we explore 5 Variable Sets. Each set has different combinations of columns and modifications. Then, we produce results for each one to be able to determine what is the most correlated."
   ]
  },
  {
   "cell_type": "markdown",
   "metadata": {},
   "source": [
    "[Back to top](#Housing-Price-Prediction-Model)\n",
    "\n",
    "### 3.1 Linear Regression\n",
    "\n",
    "The linear regression models the relationship between variables (dependent and independent). It's goal is to predict or forecast results and/or explain variations between them.\n",
    "\n",
    "The **dependent** variable (Y) in this model is 'SalePrice'. The other variables selected from the data frame are the **explanatory/independent** ones.\n",
    "\n",
    "By generating a scatterplot we can visually determine whether there's an association between the dependent and explanatory variables.\n",
    "\n",
    "To implement Linear Regression in Python we need to import the following:\n",
    "> import numpy as np<br>\n",
    "> from sklearn.linear_model import LinearRegression\n",
    "\n",
    "**Then define X and Y**<br>\n",
    "<samp>X = homes[homes.corr().SalePrice.index]\n",
    "Y = X['SalePrice']\n",
    "X.drop(['SalePrice'],axis=1,inplace=True)</samp>\n",
    "\n",
    "**Build the Linear Regression Formula**<br>\n",
    "<samp>model = linear_model.LinearRegression().fit(X,Y)</samp>\n",
    "\n",
    "**See the Output**<br>\n",
    "<samp>print(f\"R^2 = {model.score(X,Y)}\")  # Covariance\n",
    "plt.scatter(model.predict(X),Y)  # Scatter Plot\n",
    "#homes.corr()  # Correlation Table</samp>"
   ]
  },
  {
   "cell_type": "markdown",
   "metadata": {},
   "source": [
    "[Back to top](#Housing-Price-Prediction-Model)\n",
    "\n",
    "### 3.2 Analysis\n",
    "\n",
    "The variable sets tested on this project were:\n",
    "\n",
    "- Variable Set 1: Year Built and/or Remodeled -- 2 vars. -- Low corr\n",
    "- Variable Set 2: Bedrooms and Bathrooms -- 5 vars. -- Low corr\n",
    "- Variable Set 3: Square Footage -- 10 vars. -- Good corr\n",
    "- Variable Set 4: General Home Evaluation -- 5 vars. -- Good corr\n",
    "- Variable Set 5: All Previous Variables Combined -- 15 vars. -- Excelent corr\n",
    "\n",
    "The best correlation (in proportion to the number of variables) was Set 4. In Set 4, we replaced values for Condition and Quality columns, from string to their integer equivalent like so:\n",
    "- Ex\t5 - Excellent\n",
    "- Gd\t4 - Good\n",
    "- TA\t3 - Typical/Average\n",
    "- Fa\t2 - Fair\n",
    "- Po\t1 - Poor\n",
    "        \n",
    "Transforming the given data into a numeric datatypes will further support the correlation.\n",
    "\n",
    "Finally, on Set 5, we applied all previous attribute sets, and saw a significant increment in the correlation."
   ]
  },
  {
   "cell_type": "markdown",
   "metadata": {},
   "source": [
    "[Back to top](#Housing-Price-Prediction-Model)\n",
    "\n",
    "### 3.3 Results\n",
    "\n",
    "Variable Set 5 is by far the most correlated to Sale Price, with an R^2 greater than 0.89.<br>\n",
    "This proves that the more numerical data we can gather for each property the more correlated."
   ]
  },
  {
   "cell_type": "markdown",
   "metadata": {},
   "source": [
    "### 3.4 Verify Your Model Against Test Data\n",
    "\n",
    "Results for the `jtest.csv` dataset are very similar to the ones produced with `houseSmallData.csv`.<br>\n",
    "The model can be reproduced without glitches.\n",
    "\n",
    "To test either replace file name in the [Import the Data](#2.1-Import-the-Data) section, or run the code below."
   ]
  },
  {
   "cell_type": "code",
   "execution_count": 22,
   "metadata": {},
   "outputs": [
    {
     "name": "stdout",
     "output_type": "stream",
     "text": [
      "R^2 = 0.8973776951167909\n"
     ]
    },
    {
     "data": {
      "text/plain": [
       "<matplotlib.collections.PathCollection at 0x7ff3d91147c0>"
      ]
     },
     "execution_count": 22,
     "metadata": {},
     "output_type": "execute_result"
    },
    {
     "data": {
      "image/png": "[encoded data removed]",
      "text/plain": [
       "<Figure size 432x288 with 1 Axes>"
      ]
     },
     "metadata": {
      "needs_background": "light"
     },
     "output_type": "display_data"
    }
   ],
   "source": [
    "test_run = pd.read_csv('jtest.csv')\n",
    "# SELECT COLUMNS\n",
    "test = test_run[['SalePrice','YearBuilt','YearRemodAdd','BedroomAbvGr','BsmtFullBath',\n",
    "                 'BsmtHalfBath','FullBath','HalfBath','LotArea','GrLivArea','BsmtFinSF1','GarageArea',\n",
    "                 'WoodDeckSF','OpenPorchSF','EnclosedPorch','3SsnPorch','ScreenPorch','MasVnrArea',\n",
    "                 'KitchenQual','ExterQual','ExterCond','OverallQual','OverallCond']].copy()\n",
    "# PREPARE DATA\n",
    "test['Remodeled'] = np.where(test['YearRemodAdd'] == test['YearBuilt'], 0, 1)    # 1 - Year Built and/or remodeled\n",
    "test.replace({'BsmtHalfBath':{1:0.5},'HalfBath':{1:0.5}},inplace=True)    # 2 - Bedrooms and Baths\n",
    "test['Bathrooms'] = test[['BsmtFullBath','BsmtHalfBath','FullBath','HalfBath']].sum(axis=1)\n",
    "test['SqFt_DeckPorch'] = test[['WoodDeckSF','OpenPorchSF','EnclosedPorch','3SsnPorch','ScreenPorch']].sum(axis=1)    # 3 - Square Footage\n",
    "rating = ['KitchenQual','ExterQual','ExterCond']    # 4 - General Home Evaluation\n",
    "test[rating] = test[rating].replace({'Ex':5,'Gd':4,'TA':3,'Fa':2,'Po':1})\n",
    "test.drop(columns=['YearRemodAdd','BsmtFullBath','BsmtHalfBath','FullBath','HalfBath',\n",
    "                   'WoodDeckSF','OpenPorchSF','EnclosedPorch','3SsnPorch','ScreenPorch'],inplace=True)\n",
    "# ORGANIZE AND PRESENT DATA\n",
    "test.rename(columns={'BedroomAbvGr':'Bedrooms',\n",
    "                     'LotArea':'SqFt_Lot',\n",
    "                     'GrLivArea':'SqFt_Living',\n",
    "                     'BsmtFinSF1':'SqFt_FinBsmt',\n",
    "                     'GarageArea':'SqFt_Garage',\n",
    "                     'MasVnrArea':'SqFt_MasVnr'},inplace=True)\n",
    "test = test.reindex(columns=['SalePrice','Bedrooms','Bathrooms','YearBuilt','Remodeled',\n",
    "                             'KitchenQual','ExterQual','ExterCond','OverallQual','OverallCond',\n",
    "                             'SqFt_DeckPorch','SqFt_FinBsmt','SqFt_Garage','SqFt_Living','SqFt_Lot','SqFt_MasVnr',])\n",
    "# RESULTS\n",
    "X = test[test.corr().SalePrice.index]\n",
    "Y = X['SalePrice']\n",
    "X.drop(['SalePrice'],axis=1,inplace=True)\n",
    "model = linear_model.LinearRegression().fit(X,Y)\n",
    "print(f\"R^2 = {model.score(X,Y)}\")  # Covariance\n",
    "plt.scatter(model.predict(X),Y)  # Scatter Plot\n",
    "#test.corr()  # Correlation Table"
   ]
  },
  {
   "cell_type": "markdown",
   "metadata": {},
   "source": [
    "[Back to top](#Housing-Price-Prediction-Model)\n",
    "\n",
    "## Conclusion\n",
    "\n",
    "Our goal was to build a model to predict housing prices using linear regression given certain data. To achieve this we have tested multiple variable sets and their correlation to sale prices, and then tested the combination of the variable sets to achieve the most accurate (highest correlation) results.\n",
    "\n",
    "We studied the structure of the DataFrame and we cleaned and organized the data to be able to test different variable sets. Finally, we were able to achieve a R-squared result greater than 0.89 when we changed datatypes and combined multiple variables in [Variable Set 5](#Variable-Set-5).\n",
    "\n",
    "Through this project I learned the importance of understanding the data to begin with. Understand how it can be formatted in a way that we can get more information out of it."
   ]
  },
  {
   "cell_type": "markdown",
   "metadata": {},
   "source": [
    "## References\n",
    "\n",
    "- Department of Statistics and Data Science. “Linear Regression.” Yale University. 1998. http://www.stat.yale.edu/Courses/1997-98/101/linreg.htm ."
   ]
  }
 ],
 "metadata": {
  "kernelspec": {
   "display_name": "Python 3 (ipykernel)",
   "language": "python",
   "name": "python3"
  },
  "language_info": {
   "codemirror_mode": {
    "name": "ipython",
    "version": 3
   },
   "file_extension": ".py",
   "mimetype": "text/x-python",
   "name": "python",
   "nbconvert_exporter": "python",
   "pygments_lexer": "ipython3",
   "version": "3.9.7"
  }
 },
 "nbformat": 4,
 "nbformat_minor": 4
}
